{
 "cells": [
  {
   "cell_type": "code",
   "execution_count": 2,
   "metadata": {},
   "outputs": [],
   "source": [
    "import numpy as np\n",
    "import os"
   ]
  },
  {
   "cell_type": "code",
   "execution_count": 11,
   "metadata": {},
   "outputs": [
    {
     "name": "stdout",
     "output_type": "stream",
     "text": [
      "{'Drumming Fingers': 4371, 'Sliding Two Fingers Right': 4206, 'Sliding Two Fingers Down': 4348, 'Pulling Two Fingers In': 4267, 'Sliding Two Fingers Up': 4219, 'Zooming Out With Two Fingers': 4323, 'Pulling Hand In': 4323, 'Thumb Up': 4373, 'Swiping Right': 4084, 'Zooming In With Two Fingers': 4302, 'Stop Sign': 4337, 'Doing other things': 9592, 'Swiping Down': 4259, 'No gesture': 4278, 'Thumb Down': 4390, 'Rolling Hand Forward': 4132, 'Pushing Hand Away': 4357, 'Zooming Out With Full Hand': 4281, 'Shaking Hand': 4258, 'Turning Hand Counterclockwise': 3398, 'Zooming In With Full Hand': 4251, 'Rolling Hand Backward': 4032, 'Turning Hand Clockwise': 3216, 'Swiping Left': 4162, 'Sliding Two Fingers Left': 4292, 'Pushing Two Fingers Away': 4291, 'Swiping Up': 4220}\n",
      "27\n",
      "{'Thumb Up', 'Drumming Fingers', 'Swiping Down', 'Zooming In With Two Fingers', 'No gesture', 'Zooming Out With Two Fingers', 'Rolling Hand Backward', 'Stop Sign', 'Rolling Hand Forward', 'Zooming Out With Full Hand', 'Turning Hand Clockwise', 'Turning Hand Counterclockwise', 'Sliding Two Fingers Up', 'Swiping Left', 'Pushing Hand Away', 'Sliding Two Fingers Right', 'Shaking Hand', 'Thumb Down', 'Pushing Two Fingers Away', 'Swiping Right', 'Zooming In With Full Hand', 'Swiping Up', 'Sliding Two Fingers Left', 'Pulling Hand In', 'Doing other things', 'Sliding Two Fingers Down', 'Pulling Two Fingers In'}\n"
     ]
    }
   ],
   "source": [
    "annot_path = \"Jester\"\n",
    "mode = \"train\"\n",
    "csv_file = os.path.join(annot_path, \"labels\", \"{}.csv\".format(mode))\n",
    "annot_df = np.loadtxt(csv_file, dtype=np.str0, delimiter=\";\")\n",
    "\n",
    "labels = annot_df[:, 1:2]\n",
    "\n",
    "label_nums = {}\n",
    "label_set = set()\n",
    "for idx, label in enumerate(labels):\n",
    "    label_set.add(label[0])\n",
    "    if label_nums.get(label[0]):\n",
    "        label_nums[label[0]] += 1\n",
    "    else :\n",
    "        label_nums[label[0]] = 1\n",
    "\n",
    "print(label_nums)\n",
    "print(label_nums.__len__())\n",
    "print(label_set)"
   ]
  }
 ],
 "metadata": {
  "kernelspec": {
   "display_name": "Python 3.8.13 ('py')",
   "language": "python",
   "name": "python3"
  },
  "language_info": {
   "codemirror_mode": {
    "name": "ipython",
    "version": 3
   },
   "file_extension": ".py",
   "mimetype": "text/x-python",
   "name": "python",
   "nbconvert_exporter": "python",
   "pygments_lexer": "ipython3",
   "version": "3.8.13"
  },
  "orig_nbformat": 4,
  "vscode": {
   "interpreter": {
    "hash": "cb8a2b2386c3df55715ecd8c8ce953e91f74eb50976ed75122b51edf92ec6bd3"
   }
  }
 },
 "nbformat": 4,
 "nbformat_minor": 2
}
