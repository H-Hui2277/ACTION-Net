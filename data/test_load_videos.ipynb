{
 "cells": [
  {
   "cell_type": "code",
   "execution_count": 3,
   "metadata": {},
   "outputs": [],
   "source": [
    "import os\n",
    "import pandas as pd\n",
    "import numpy as np"
   ]
  },
  {
   "cell_type": "code",
   "execution_count": 18,
   "metadata": {},
   "outputs": [
    {
     "name": "stdout",
     "output_type": "stream",
     "text": [
      "Jester\\20db_jester\\['23595']\n",
      "['Zooming Out With Two Fingers']\n"
     ]
    }
   ],
   "source": [
    "annot_path = \"Jester\"\n",
    "mode = \"train\"\n",
    "csv_file = os.path.join(annot_path,'labels' , '{}.csv'.format(mode))\n",
    "annot_df = np.loadtxt(csv_file, dtype=np.str0, delimiter=\";\")\n",
    "\n",
    "rgb_samples_names = annot_df[:, 0:1]\n",
    "labels = annot_df[:, 1:2]\n",
    "\n",
    "rgb_samples = {}\n",
    "for idx, sample_name in enumerate(rgb_samples_names):\n",
    "    rgb_samples_path = os.path.join(annot_path, \"20db_jester\", \"{}\".format(sample_name))\n",
    "    # 测试 后面改成图片列表\n",
    "    rgb_samples[idx] = rgb_samples_path\n",
    "print(rgb_samples[5])\n",
    "print(labels[5])"
   ]
  },
  {
   "cell_type": "code",
   "execution_count": null,
   "metadata": {},
   "outputs": [],
   "source": []
  }
 ],
 "metadata": {
  "kernelspec": {
   "display_name": "Python 3.8.13 ('py')",
   "language": "python",
   "name": "python3"
  },
  "language_info": {
   "codemirror_mode": {
    "name": "ipython",
    "version": 3
   },
   "file_extension": ".py",
   "mimetype": "text/x-python",
   "name": "python",
   "nbconvert_exporter": "python",
   "pygments_lexer": "ipython3",
   "version": "3.8.13"
  },
  "orig_nbformat": 4,
  "vscode": {
   "interpreter": {
    "hash": "cb8a2b2386c3df55715ecd8c8ce953e91f74eb50976ed75122b51edf92ec6bd3"
   }
  }
 },
 "nbformat": 4,
 "nbformat_minor": 2
}
